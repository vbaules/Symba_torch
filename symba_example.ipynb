{
 "cells": [
  {
   "cell_type": "code",
   "execution_count": 1,
   "id": "ab46ec6f",
   "metadata": {},
   "outputs": [],
   "source": [
    "import os\n",
    "os.environ[\"CUDA_VISIBLE_DEVICES\"] = \"5\""
   ]
  },
  {
   "cell_type": "code",
   "execution_count": 2,
   "id": "0abb0e56",
   "metadata": {},
   "outputs": [],
   "source": [
    "import torch\n",
    "import pandas as pd\n",
    "from engine import Config, Trainer, Plotter, Predictor"
   ]
  },
  {
   "cell_type": "code",
   "execution_count": 3,
   "id": "320c252c",
   "metadata": {},
   "outputs": [],
   "source": [
    "config = Config(experiment_name=\"Example\",\n",
    "                model_name=\"seq2seq_transformer\",\n",
    "                dataset_name=\"QCD_Amplitude\",\n",
    "                epochs=5,\n",
    "                seed=42,\n",
    "                training_batch_size=128,\n",
    "                test_batch_size=256,\n",
    "                optimizer_type=\"adam\",\n",
    "                optimizer_lr=0.0001,\n",
    "                vocab_size=2875,\n",
    "                embedding_size=512,\n",
    "                hidden_dim=512\n",
    "                )"
   ]
  },
  {
   "cell_type": "code",
   "execution_count": 4,
   "id": "d4480fc8",
   "metadata": {},
   "outputs": [
    {
     "name": "stdout",
     "output_type": "stream",
     "text": [
      "==> Using precomputed data-splits\n",
      "==> Using default root directory for saving models: ./seq2seq_transformer/QCD_Amplitude/Example\n",
      "==> Root directory already exists. Overwriting...\n",
      "==================================================\n",
      "Config\n",
      "==================================================\n",
      "experiment_name                Example\n",
      "root_dir                       ./\n",
      "device                         cuda\n",
      "save_at_epochs                 []\n",
      "epochs                         5\n",
      "seed                           42\n",
      "train_shuffle                  True\n",
      "test_shuffle                   False\n",
      "training_batch_size            128\n",
      "test_batch_size                256\n",
      "num_workers                    4\n",
      "pin_memory                     True\n",
      "scheduler_type                 none\n",
      "scheduler_gamma                0\n",
      "scheduler_milestones           []\n",
      "optimizer_type                 adam\n",
      "optimizer_lr                   0.0001\n",
      "optimizer_momentum             0.9\n",
      "optimizer_weight_decay         0.0\n",
      "optimizer_no_decay             []\n",
      "clip_grad_norm                 -1\n",
      "dataset_name                   QCD_Amplitude\n",
      "vocab_size                     2875\n",
      "maximum_sequence_length        256\n",
      "model_name                     seq2seq_transformer\n",
      "embedding_size                 512\n",
      "hidden_dim                     512\n",
      "nhead                          8\n",
      "num_encoder_layers             3\n",
      "num_decoder_layers             3\n",
      "dropout                        0.1\n",
      "==================================================\n"
     ]
    },
    {
     "name": "stderr",
     "output_type": "stream",
     "text": [
      "[1/5] Train: 100%|████████████████████████████████████████████████████████████| 767/767 [06:03<00:00,  2.11it/s, loss=0.909]\n",
      "[1/5] Valid: 100%|██████████████████████████████████████████████| 83/83 [00:26<00:00,  3.08it/s, accuracy=0.916, loss=0.296]\n"
     ]
    },
    {
     "name": "stdout",
     "output_type": "stream",
     "text": [
      "==> Best Accuracy improved to 0.9164 from 0\n"
     ]
    },
    {
     "name": "stderr",
     "output_type": "stream",
     "text": [
      "[2/5] Train: 100%|████████████████████████████████████████████████████████████| 767/767 [06:01<00:00,  2.12it/s, loss=0.217]\n",
      "[2/5] Valid: 100%|██████████████████████████████████████████████| 83/83 [00:26<00:00,  3.10it/s, accuracy=0.98, loss=0.0763]\n"
     ]
    },
    {
     "name": "stdout",
     "output_type": "stream",
     "text": [
      "==> Best Accuracy improved to 0.9804 from 0.9164\n"
     ]
    },
    {
     "name": "stderr",
     "output_type": "stream",
     "text": [
      "[3/5] Train: 100%|███████████████████████████████████████████████████████████| 767/767 [06:02<00:00,  2.12it/s, loss=0.0854]\n",
      "[3/5] Valid: 100%|█████████████████████████████████████████████| 83/83 [00:26<00:00,  3.08it/s, accuracy=0.993, loss=0.0285]\n"
     ]
    },
    {
     "name": "stdout",
     "output_type": "stream",
     "text": [
      "==> Best Accuracy improved to 0.9928 from 0.9804\n"
     ]
    },
    {
     "name": "stderr",
     "output_type": "stream",
     "text": [
      "[4/5] Train: 100%|███████████████████████████████████████████████████████████| 767/767 [06:02<00:00,  2.12it/s, loss=0.0421]\n",
      "[4/5] Valid: 100%|█████████████████████████████████████████████| 83/83 [00:26<00:00,  3.08it/s, accuracy=0.997, loss=0.0124]\n"
     ]
    },
    {
     "name": "stdout",
     "output_type": "stream",
     "text": [
      "==> Best Accuracy improved to 0.997 from 0.9928\n"
     ]
    },
    {
     "name": "stderr",
     "output_type": "stream",
     "text": [
      "[5/5] Train: 100%|███████████████████████████████████████████████████████████| 767/767 [06:03<00:00,  2.11it/s, loss=0.0236]\n",
      "[5/5] Valid: 100%|████████████████████████████████████████████| 83/83 [00:26<00:00,  3.08it/s, accuracy=0.998, loss=0.00647]\n"
     ]
    },
    {
     "name": "stdout",
     "output_type": "stream",
     "text": [
      "==> Best Accuracy improved to 0.9984 from 0.997\n"
     ]
    },
    {
     "name": "stderr",
     "output_type": "stream",
     "text": [
      "[5/5] Test: 100%|█████████████████████████████████████████████| 83/83 [00:27<00:00,  3.05it/s, accuracy=0.998, loss=0.00639]"
     ]
    },
    {
     "name": "stdout",
     "output_type": "stream",
     "text": [
      "Test Accuracy: 0.9984 | Valid Accuracy: 0.9984\n"
     ]
    },
    {
     "name": "stderr",
     "output_type": "stream",
     "text": [
      "\n"
     ]
    }
   ],
   "source": [
    "loss_fn = torch.nn.CrossEntropyLoss()\n",
    "\n",
    "class symba_trainer(Trainer):\n",
    "    def criterion(self, y_pred, y_true):\n",
    "        return loss_fn(y_pred, y_true)\n",
    "    \n",
    "if __name__ == \"__main__\":\n",
    "    trainer = symba_trainer(config)\n",
    "    trainer.fit()"
   ]
  },
  {
   "cell_type": "code",
   "execution_count": 5,
   "id": "cd67a6bf",
   "metadata": {},
   "outputs": [
    {
     "data": {
      "image/png": "[encoded data removed]",
      "text/plain": [
       "<Figure size 432x288 with 1 Axes>"
      ]
     },
     "metadata": {
      "needs_background": "light"
     },
     "output_type": "display_data"
    }
   ],
   "source": [
    "plotter = Plotter(config)\n",
    "plotter.plot()"
   ]
  },
  {
   "cell_type": "code",
   "execution_count": 6,
   "id": "1d124090",
   "metadata": {},
   "outputs": [],
   "source": [
    "predictor = Predictor(config, \"cuda\")"
   ]
  },
  {
   "cell_type": "code",
   "execution_count": 7,
   "id": "21fe7e80",
   "metadata": {},
   "outputs": [],
   "source": [
    "test_df = pd.read_csv('./data/QCD_Amplitude/test.csv')\n",
    "src = test_df.iloc[3]['Amplitude']\n",
    "prediction = predictor.predict(src)"
   ]
  },
  {
   "cell_type": "code",
   "execution_count": 8,
   "id": "a6dae625",
   "metadata": {},
   "outputs": [
    {
     "name": "stdout",
     "output_type": "stream",
     "text": [
      "Original Squared Amplitude: \n",
      "\n",
      "[ m_c^2 , m_c^4 , 1 ] , [ -128 *( 4* m_t^4 + m_t^2 *( 4*s_11 +4*s_12 -10*s_13 -4*s_23 -3*s_24 +4*s_34) -s_11*s_24 +4* s_12*s_14 -s_12*s_34 -2* s_12*s_44 +2* s_13*s_24 -3* s_14*s_23 -2* s_14*s_24 +2* s_23*s_34 +2* s_23*s_44 +s_24*s_44) , -128 *( 4* m_t^2 -s_24) , 128 *( 2* m_t^4 *s_13 + m_t^2 *( 2* s_11*s_13 +4* s_11*s_34 +2* s_12*s_13 +s_12*s_34 -4*s_13^2 -2* s_13*s_23 -2* s_13*s_24 +2* s_13*s_44 +s_14*s_23 -8* s_14*s_34) +s_11* s_12*s_34 -s_11* s_14*s_23 -2* s_11*s_23*s_34 -2* s_11*s_24*s_34 +2* s_12*s_13*s_14 -2* s_12*s_14*s_34 -2* s_12*s_34^2 -s_12* s_34*s_44 -2* s_13*s_14*s_24 +2* s_13*s_23*s_34 +2* s_13*s_24*s_34 +2* s_14^2*s_23 +2* s_14*s_23*s_34 -s_14* s_23*s_44 +4* s_14*s_24*s_34) ] , [ 27 *( 2*s_25 -s_55)^2 *( m_c^2 +s_11 -2*s_13)^2 ]\n",
      "\n",
      "\n",
      "Predicted Squared Amplitude: \n",
      "\n",
      " [ m_c^2 , m_c^4 , 1 ] , [ -128 *( 4* m_t^4 + m_t^2 *( 4*s_11 +4*s_12 -10*s_13 -4*s_23 -3*s_24 +4*s_34) -s_11*s_24 +4* s_12*s_14 -s_12*s_34 -2* s_12*s_44 +2* s_13*s_24 -3* s_14*s_23 -2* s_14*s_24 +2* s_23*s_34 +2* s_23*s_44 +s_24*s_44) , -128 *( 4* m_t^2 -s_24) , 128 *( 2* m_t^4 *s_13 + m_t^2 *( 2* s_11*s_13 +4* s_11*s_34 +2* s_12*s_13 +s_12*s_34 -4*s_13^2 -2* s_13*s_23 -2* s_13*s_24 +2* s_13*s_44 +s_14*s_23 -8* s_14*s_34) +s_11* s_12*s_34 -s_11* s_14*s_23 -2* s_11*s_23*s_34 -2* s_11*s_24*s_34 +2* s_12*s_13*s_14 -2* s_12*s_14*s_34 -2* s_12*s_34^2 -s_12* s_34*s_44 -2* s_13*s_14*s_24 +2* s_13*s_23*s_34 +2* s_13*s_24*s_34 +2* s_14^2*s_23 +2* s_14*s_23*s_34 -s_14* s_23*s_44 +4* s_14*s_24*s_34) ] , [ 27 *( 2*s_25 -s_55)^2 *( m_c^2 +s_11 -2*s_13)^2 ] \n"
     ]
    }
   ],
   "source": [
    "print(\"Original Squared Amplitude: \\n\")\n",
    "print(test_df.iloc[3][\"Squared_Amplitude\"])\n",
    "print(\"\\n\")\n",
    "print(\"Predicted Squared Amplitude: \\n\")\n",
    "print(prediction)"
   ]
  },
  {
   "cell_type": "code",
   "execution_count": null,
   "id": "e6315504",
   "metadata": {},
   "outputs": [],
   "source": []
  }
 ],
 "metadata": {
  "kernelspec": {
   "display_name": "Python 3 (ipykernel)",
   "language": "python",
   "name": "python3"
  },
  "language_info": {
   "codemirror_mode": {
    "name": "ipython",
    "version": 3
   },
   "file_extension": ".py",
   "mimetype": "text/x-python",
   "name": "python",
   "nbconvert_exporter": "python",
   "pygments_lexer": "ipython3",
   "version": "3.8.12"
  }
 },
 "nbformat": 4,
 "nbformat_minor": 5
}
