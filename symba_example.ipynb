{
 "cells": [
  {
   "cell_type": "code",
   "execution_count": 1,
   "id": "f19baa8a",
   "metadata": {},
   "outputs": [],
   "source": [
    "import os\n",
    "os.environ[\"CUDA_VISIBLE_DEVICES\"] = \"7\""
   ]
  },
  {
   "cell_type": "code",
   "execution_count": 2,
   "id": "f4f9906d",
   "metadata": {},
   "outputs": [],
   "source": [
    "import torch\n",
    "import pandas as pd\n",
    "from engine import Config, Trainer, Plotter, Predictor"
   ]
  },
  {
   "cell_type": "code",
   "execution_count": 3,
   "id": "35990770",
   "metadata": {},
   "outputs": [],
   "source": [
    "config = Config(experiment_name=\"Example\",\n",
    "                model_name=\"seq2seq_transformer\",\n",
    "                dataset_name=\"QCD_Amplitude\",\n",
    "                epochs=7,\n",
    "                seed=42,\n",
    "                training_batch_size=128,\n",
    "                test_batch_size=256,\n",
    "                optimizer_type=\"adam\",\n",
    "                optimizer_lr=0.0001,\n",
    "                vocab_size=2875,\n",
    "                embedding_size=512,\n",
    "                hidden_dim=512\n",
    "                )"
   ]
  },
  {
   "cell_type": "code",
   "execution_count": null,
   "id": "21aec7a4",
   "metadata": {},
   "outputs": [
    {
     "name": "stdout",
     "output_type": "stream",
     "text": [
      "==> Using precomputed data-splits\n",
      "==> Using default root directory for saving models: ./seq2seq_transformer/QCD_Amplitude/Example\n",
      "==> Root directory already exists. Overwriting...\n",
      "==================================================\n",
      "Config\n",
      "==================================================\n",
      "experiment_name                Example\n",
      "root_dir                       ./\n",
      "device                         cuda\n",
      "save_at_epochs                 []\n",
      "epochs                         7\n",
      "seed                           42\n",
      "train_shuffle                  True\n",
      "test_shuffle                   False\n",
      "training_batch_size            128\n",
      "test_batch_size                256\n",
      "num_workers                    4\n",
      "pin_memory                     True\n",
      "scheduler_type                 none\n",
      "scheduler_gamma                0\n",
      "scheduler_milestones           []\n",
      "optimizer_type                 adam\n",
      "optimizer_lr                   0.0001\n",
      "optimizer_momentum             0.9\n",
      "optimizer_weight_decay         0.0\n",
      "optimizer_no_decay             []\n",
      "clip_grad_norm                 -1\n",
      "dataset_name                   QCD_Amplitude\n",
      "vocab_size                     2875\n",
      "model_name                     seq2seq_transformer\n",
      "embedding_size                 512\n",
      "hidden_dim                     512\n",
      "nhead                          8\n",
      "num_encoder_layers             3\n",
      "num_decoder_layers             3\n",
      "dropout                        0.1\n",
      "==================================================\n"
     ]
    },
    {
     "name": "stderr",
     "output_type": "stream",
     "text": [
      "[1/7] Train:  93%|████████████████████████████████████████████████████████▍    | 710/767 [09:41<00:48,  1.18it/s, loss=0.95]"
     ]
    }
   ],
   "source": [
    "loss_fn = torch.nn.CrossEntropyLoss()\n",
    "\n",
    "class symba_trainer(Trainer):\n",
    "    def criterion(self, y_pred, y_true):\n",
    "        return loss_fn(y_pred, y_true)\n",
    "    \n",
    "if __name__ == \"__main__\":\n",
    "    trainer = symba_trainer(config)\n",
    "    trainer.fit()"
   ]
  },
  {
   "cell_type": "code",
   "execution_count": null,
   "id": "0af1e189",
   "metadata": {},
   "outputs": [],
   "source": [
    "plotter = Plotter(config)\n",
    "plotter.plot()"
   ]
  },
  {
   "cell_type": "code",
   "execution_count": null,
   "id": "b490f2a3",
   "metadata": {},
   "outputs": [],
   "source": [
    "test_df = pd.read_csv('./data/QCD/test.csv')\n",
    "src = test_df.iloc[0]['Amplitude']"
   ]
  },
  {
   "cell_type": "code",
   "execution_count": null,
   "id": "89f1729a",
   "metadata": {},
   "outputs": [],
   "source": [
    "predictor = Predictor(config, \"cuda\")\n",
    "prediction = predictor.predict(src)"
   ]
  },
  {
   "cell_type": "code",
   "execution_count": null,
   "id": "def4af55",
   "metadata": {},
   "outputs": [],
   "source": [
    "print(\"Original Squared Amplitude: \\n\")\n",
    "print(test_df.iloc[0][\"Squared_Amplitude\"])\n",
    "print(\"\\n\")\n",
    "print(\"Predicted Squared Amplitude: \\n\")\n",
    "print(prediction)"
   ]
  },
  {
   "cell_type": "code",
   "execution_count": null,
   "id": "43c0fc2e",
   "metadata": {},
   "outputs": [],
   "source": []
  }
 ],
 "metadata": {
  "kernelspec": {
   "display_name": "Python 3 (ipykernel)",
   "language": "python",
   "name": "python3"
  },
  "language_info": {
   "codemirror_mode": {
    "name": "ipython",
    "version": 3
   },
   "file_extension": ".py",
   "mimetype": "text/x-python",
   "name": "python",
   "nbconvert_exporter": "python",
   "pygments_lexer": "ipython3",
   "version": "3.8.12"
  }
 },
 "nbformat": 4,
 "nbformat_minor": 5
}
