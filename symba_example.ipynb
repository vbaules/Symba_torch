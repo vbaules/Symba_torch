{
 "cells": [
  {
   "cell_type": "code",
   "execution_count": 1,
   "id": "b5ff40d5",
   "metadata": {},
   "outputs": [],
   "source": [
    "import os\n",
    "os.environ[\"CUDA_VISIBLE_DEVICES\"] = \"2\""
   ]
  },
  {
   "cell_type": "code",
   "execution_count": 2,
   "id": "5f5c419c",
   "metadata": {},
   "outputs": [],
   "source": [
    "import torch\n",
    "import pandas as pd\n",
    "from engine import Config, Trainer, Plotter, Predictor"
   ]
  },
  {
   "cell_type": "code",
   "execution_count": 3,
   "id": "0002f910",
   "metadata": {},
   "outputs": [],
   "source": [
    "config = Config(experiment_name=\"Example\",\n",
    "                model_name=\"seq2seq_transformer\",\n",
    "                dataset_name=\"QCD_Amplitude\",\n",
    "                epochs=5,\n",
    "                seed=42,\n",
    "                training_batch_size=128,\n",
    "                test_batch_size=256,\n",
    "                optimizer_type=\"adam\",\n",
    "                optimizer_lr=0.0001,\n",
    "                vocab_size=2875,\n",
    "                embedding_size=512,\n",
    "                hidden_dim=512\n",
    "                )"
   ]
  },
  {
   "cell_type": "code",
   "execution_count": null,
   "id": "3cba07ee",
   "metadata": {},
   "outputs": [
    {
     "name": "stdout",
     "output_type": "stream",
     "text": [
      "==> Using precomputed data-splits\n",
      "==> Using default root directory for saving models: ./seq2seq_transformer/QCD_Amplitude/Example\n",
      "==> Root directory already exists. Overwriting...\n",
      "==================================================\n",
      "Config\n",
      "==================================================\n",
      "experiment_name                Example\n",
      "root_dir                       ./\n",
      "device                         cuda\n",
      "save_at_epochs                 []\n",
      "debug                          False\n",
      "epochs                         5\n",
      "seed                           42\n",
      "train_shuffle                  True\n",
      "test_shuffle                   False\n",
      "training_batch_size            128\n",
      "test_batch_size                256\n",
      "num_workers                    4\n",
      "pin_memory                     True\n",
      "scheduler_type                 none\n",
      "scheduler_gamma                0\n",
      "scheduler_milestones           []\n",
      "optimizer_type                 adam\n",
      "optimizer_lr                   0.0001\n",
      "optimizer_momentum             0.9\n",
      "optimizer_weight_decay         0.0\n",
      "optimizer_no_decay             []\n",
      "clip_grad_norm                 -1\n",
      "dataset_name                   QCD_Amplitude\n",
      "vocab_size                     2875\n",
      "tokenizer_type                 seq2seq\n",
      "maximum_sequence_length        256\n",
      "model_name                     seq2seq_transformer\n",
      "embedding_size                 512\n",
      "hidden_dim                     512\n",
      "nhead                          8\n",
      "num_encoder_layers             3\n",
      "num_decoder_layers             3\n",
      "dropout                        0.1\n",
      "pretrain                       False\n",
      "==================================================\n"
     ]
    },
    {
     "name": "stderr",
     "output_type": "stream",
     "text": [
      "[1/5] Train: 100%|█████████████████████████████████████████████████████████████████████████████████████████████| 767/767 [05:47<00:00,  2.21it/s, loss=0.909]\n",
      "[1/5] Valid: 100%|███████████████████████████████████████████████████████████████████████████| 83/83 [00:25<00:00,  3.25it/s, loss=0.296, tok_accuracy=0.916]\n"
     ]
    },
    {
     "name": "stdout",
     "output_type": "stream",
     "text": [
      "==> Best Accuracy improved to 0.9164 from -12345\n"
     ]
    },
    {
     "name": "stderr",
     "output_type": "stream",
     "text": [
      "[2/5] Train: 100%|█████████████████████████████████████████████████████████████████████████████████████████████| 767/767 [05:46<00:00,  2.21it/s, loss=0.217]\n",
      "[2/5] Valid: 100%|███████████████████████████████████████████████████████████████████████████| 83/83 [00:25<00:00,  3.25it/s, loss=0.0763, tok_accuracy=0.98]\n"
     ]
    },
    {
     "name": "stdout",
     "output_type": "stream",
     "text": [
      "==> Best Accuracy improved to 0.9804 from 0.9164\n"
     ]
    },
    {
     "name": "stderr",
     "output_type": "stream",
     "text": [
      "[3/5] Train: 100%|████████████████████████████████████████████████████████████████████████████████████████████| 767/767 [05:46<00:00,  2.21it/s, loss=0.0854]\n",
      "[3/5] Valid: 100%|██████████████████████████████████████████████████████████████████████████| 83/83 [00:25<00:00,  3.25it/s, loss=0.0285, tok_accuracy=0.993]\n"
     ]
    },
    {
     "name": "stdout",
     "output_type": "stream",
     "text": [
      "==> Best Accuracy improved to 0.9928 from 0.9804\n"
     ]
    },
    {
     "name": "stderr",
     "output_type": "stream",
     "text": [
      "[4/5] Train: 100%|████████████████████████████████████████████████████████████████████████████████████████████| 767/767 [05:46<00:00,  2.21it/s, loss=0.0421]\n",
      "[4/5] Valid: 100%|██████████████████████████████████████████████████████████████████████████| 83/83 [00:25<00:00,  3.25it/s, loss=0.0124, tok_accuracy=0.997]\n"
     ]
    },
    {
     "name": "stdout",
     "output_type": "stream",
     "text": [
      "==> Best Accuracy improved to 0.997 from 0.9928\n"
     ]
    },
    {
     "name": "stderr",
     "output_type": "stream",
     "text": [
      "[5/5] Train: 100%|████████████████████████████████████████████████████████████████████████████████████████████| 767/767 [05:47<00:00,  2.21it/s, loss=0.0236]\n",
      "[5/5] Valid: 100%|█████████████████████████████████████████████████████████████████████████| 83/83 [00:25<00:00,  3.25it/s, loss=0.00647, tok_accuracy=0.998]\n"
     ]
    },
    {
     "name": "stdout",
     "output_type": "stream",
     "text": [
      "==> Best Accuracy improved to 0.9984 from 0.997\n"
     ]
    },
    {
     "name": "stderr",
     "output_type": "stream",
     "text": [
      "[5/5] Test: 100%|██████████████████████████████████████████████████████████████████████████| 83/83 [00:25<00:00,  3.22it/s, loss=0.00639, tok_accuracy=0.998]\n",
      "Seq_Acc_Cal:  90%|████████████████████████████████████████████████████████████████████████████▌        | 450/500 [03:49<00:29,  1.71it/s, seq_accuracy=0.822]"
     ]
    }
   ],
   "source": [
    "loss_fn = torch.nn.CrossEntropyLoss()\n",
    "\n",
    "class symba_trainer(Trainer):\n",
    "    def criterion(self, y_pred, y_true):\n",
    "        return loss_fn(y_pred, y_true)\n",
    "    \n",
    "if __name__ == \"__main__\":\n",
    "    trainer = symba_trainer(config)\n",
    "    trainer.fit()"
   ]
  },
  {
   "cell_type": "code",
   "execution_count": null,
   "id": "a7e63233",
   "metadata": {},
   "outputs": [],
   "source": [
    "plotter = Plotter(config)\n",
    "plotter.plot()"
   ]
  },
  {
   "cell_type": "code",
   "execution_count": null,
   "id": "74bfc6cc",
   "metadata": {},
   "outputs": [],
   "source": [
    "predictor = Predictor(config, \"cuda\")"
   ]
  },
  {
   "cell_type": "code",
   "execution_count": null,
   "id": "ec3cbd25",
   "metadata": {},
   "outputs": [],
   "source": [
    "test_df = pd.read_csv('./data/QCD_Amplitude/test.csv')\n",
    "src = test_df.iloc[3]\n",
    "prediction = predictor.predict(src)"
   ]
  },
  {
   "cell_type": "code",
   "execution_count": null,
   "id": "5dff9094",
   "metadata": {},
   "outputs": [],
   "source": [
    "print(\"Original Squared Amplitude: \\n\")\n",
    "print(test_df.iloc[3][\"Squared_Amplitude\"])\n",
    "print(\"\\n\")\n",
    "print(\"Predicted Squared Amplitude: \\n\")\n",
    "print(prediction)"
   ]
  },
  {
   "cell_type": "code",
   "execution_count": null,
   "id": "288d3442",
   "metadata": {},
   "outputs": [],
   "source": []
  }
 ],
 "metadata": {
  "kernelspec": {
   "display_name": "Python 3 (ipykernel)",
   "language": "python",
   "name": "python3"
  },
  "language_info": {
   "codemirror_mode": {
    "name": "ipython",
    "version": 3
   },
   "file_extension": ".py",
   "mimetype": "text/x-python",
   "name": "python",
   "nbconvert_exporter": "python",
   "pygments_lexer": "ipython3",
   "version": "3.8.12"
  }
 },
 "nbformat": 4,
 "nbformat_minor": 5
}
